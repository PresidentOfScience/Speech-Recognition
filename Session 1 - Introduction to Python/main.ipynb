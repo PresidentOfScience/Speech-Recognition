{
 "cells": [
  {
   "cell_type": "code",
   "execution_count": 1,
   "metadata": {},
   "outputs": [
    {
     "name": "stdout",
     "output_type": "stream",
     "text": [
      "Fendy\n"
     ]
    }
   ],
   "source": [
    "# Input\n",
    "name = input(\"Enter name: \")\n",
    "\n",
    "# Output\n",
    "print(name)"
   ]
  },
  {
   "cell_type": "code",
   "execution_count": 4,
   "metadata": {},
   "outputs": [
    {
     "data": {
      "text/plain": [
       "float"
      ]
     },
     "execution_count": 4,
     "metadata": {},
     "output_type": "execute_result"
    }
   ],
   "source": [
    "# Variable\n",
    "\n",
    "a = 10\n",
    "a = \"Fendy\"\n",
    "a = 10.45\n",
    "\n",
    "type(a)"
   ]
  },
  {
   "cell_type": "code",
   "execution_count": 5,
   "metadata": {},
   "outputs": [
    {
     "name": "stdout",
     "output_type": "stream",
     "text": [
      "a is 10\n"
     ]
    }
   ],
   "source": [
    "# Selection\n",
    "\n",
    "a = 10\n",
    "\n",
    "if(a > 10):\n",
    "    print(\"a is greater than 10\")\n",
    "elif(a < 10):\n",
    "    print(\"a is less than 10\")\n",
    "else:\n",
    "    print(\"a is 10\")"
   ]
  },
  {
   "cell_type": "code",
   "execution_count": 8,
   "metadata": {},
   "outputs": [
    {
     "name": "stdout",
     "output_type": "stream",
     "text": [
      "0\n",
      "1\n",
      "2\n",
      "3\n",
      "4\n",
      "5\n",
      "6\n",
      "7\n",
      "8\n",
      "9\n",
      "13\n",
      "35\n",
      "21\n",
      "10\n",
      "9\n",
      "8\n",
      "7\n",
      "6\n",
      "5\n",
      "4\n",
      "3\n",
      "2\n",
      "1\n"
     ]
    }
   ],
   "source": [
    "# Repetition (Looping)\n",
    "\n",
    "# For loop\n",
    "for i in range(10):\n",
    "    print(i)\n",
    "for i in [13, 35, 21]:\n",
    "    print(i)\n",
    "\n",
    "# While loop\n",
    "a = 10\n",
    "while(a > 0):\n",
    "    print(a)\n",
    "    a -= 1"
   ]
  },
  {
   "cell_type": "code",
   "execution_count": 9,
   "metadata": {},
   "outputs": [
    {
     "name": "stdout",
     "output_type": "stream",
     "text": [
      "15\n"
     ]
    }
   ],
   "source": [
    "def sumNumber(a, b):\n",
    "    return a+b\n",
    "\n",
    "c = sumNumber(10, 5)\n",
    "print(c)"
   ]
  },
  {
   "cell_type": "code",
   "execution_count": 14,
   "metadata": {},
   "outputs": [
    {
     "name": "stdout",
     "output_type": "stream",
     "text": [
      "[1, '2', 3, 4, 5, 5]\n",
      "(1, '2', 3, 4, 5, 5)\n",
      "{1, 3, 4, 5, '2'}\n",
      "Washington DC\n"
     ]
    }
   ],
   "source": [
    "# Built-in Data Structure\n",
    "\n",
    "# List -> ordered, mirip array, mutable\n",
    "list_1 = [1, \"2\", 3, 4, 5, 5]\n",
    "print(list_1)\n",
    "\n",
    "# Tuple -> ordered\n",
    "tuple_1 = (1, \"2\", 3, 4, 5, 5)\n",
    "print(tuple_1)\n",
    "\n",
    "# Set -> unordered, tidak dapat menampung duplicate value\n",
    "set_1 = {1, \"2\", 3, 4, 5, 5}\n",
    "print(set_1)\n",
    "\n",
    "# Dictionary -> key-value pair\n",
    "daftar_ibukota = {\"Indonesia\":\"Jakarta\", \"Australia\":\"Canberra\", \"USA\":\"Washington DC\"}\n",
    "negara = input(\"Enter country: \")\n",
    "print(daftar_ibukota[negara])"
   ]
  },
  {
   "cell_type": "code",
   "execution_count": 18,
   "metadata": {},
   "outputs": [
    {
     "name": "stdout",
     "output_type": "stream",
     "text": [
      "63\n",
      "[14, 63]\n",
      "[12, 63, 42, 44, 11]\n"
     ]
    }
   ],
   "source": [
    "# Data Slicing -> ambil sebagian data dari sebuah array-like\n",
    "\n",
    "a = [12, 14, 63, 21, 42, 16, 44, 22, 11, 63]\n",
    "print(a[len(a)-1])\n",
    "print(a[1:3]) # Ambil elemen a yang berawal dari index 1 dan berakhir sebelum index 3\n",
    "print(a[0:9:2])\n",
    "\n",
    "# Format data slicing\n",
    "#     a:b:c\n",
    "# a -> start index yang mau diambil\n",
    "# b -> berakhir sebelum index yang mau diambil\n",
    "# c -> mau lompat berapa kali"
   ]
  },
  {
   "cell_type": "code",
   "execution_count": 21,
   "metadata": {},
   "outputs": [
    {
     "name": "stdout",
     "output_type": "stream",
     "text": [
      "[35 63]\n"
     ]
    }
   ],
   "source": [
    "# Numpy\n",
    "\n",
    "import numpy as np\n",
    "\n",
    "arr_1 = np.array([12, 14, 35, 63, 22])\n",
    "print(arr_1[2:4])"
   ]
  },
  {
   "cell_type": "code",
   "execution_count": 27,
   "metadata": {},
   "outputs": [
    {
     "name": "stdout",
     "output_type": "stream",
     "text": [
      "2\n",
      "(3, 5)\n",
      "12\n"
     ]
    }
   ],
   "source": [
    "# Ndim -> number of dimension dari sebuah array\n",
    "# Shape -> kasih tahu bentuk array kita dan dimensinya\n",
    "\n",
    "arr_1 = np.array([\n",
    "    [12, 14, 35, 63, 22],\n",
    "    [34, 23, 55, 77, 11],\n",
    "    [24, 25, 121, 24, 25]\n",
    "])\n",
    "\n",
    "print(arr_1.ndim)\n",
    "print(arr_1.shape)\n",
    "print(arr_1[0][0])"
   ]
  },
  {
   "cell_type": "code",
   "execution_count": 33,
   "metadata": {},
   "outputs": [
    {
     "name": "stdout",
     "output_type": "stream",
     "text": [
      "[[0. 0. 0. 0. 0.]\n",
      " [0. 0. 0. 0. 0.]]\n",
      "[[1. 1. 1. 1. 1.]\n",
      " [1. 1. 1. 1. 1.]]\n",
      "[[1.53778973e-311 2.47032823e-322 0.00000000e+000 0.00000000e+000\n",
      "  1.11260619e-306 3.76231868e+174]\n",
      " [5.24965504e-090 6.87005132e+169 2.81306112e-033 1.95409311e+184\n",
      "  3.99910963e+252 1.00671539e-046]]\n"
     ]
    }
   ],
   "source": [
    "# Zeros, Ones, Empty -> Bikin array dengan shape yang dikasih\n",
    "\n",
    "a = np.zeros([2, 5])\n",
    "print(a)\n",
    "\n",
    "a = np.ones([2, 5])\n",
    "print(a)\n",
    "\n",
    "a = np.empty([2, 6])\n",
    "print(a)"
   ]
  },
  {
   "cell_type": "code",
   "execution_count": 37,
   "metadata": {},
   "outputs": [
    {
     "name": "stdout",
     "output_type": "stream",
     "text": [
      "0.7095197651032257\n",
      "[ 8  6  5  5  8  5  7 10  9  6]\n"
     ]
    }
   ],
   "source": [
    "# Random\n",
    "\n",
    "# Object generator random\n",
    "generator = np.random.default_rng()\n",
    "\n",
    "# Generate 0-1\n",
    "print(generator.random())\n",
    "\n",
    "# Generate Integer\n",
    "# Format -> integers(a, b, c)\n",
    "# a -> start\n",
    "# b -> end (exclusive)\n",
    "# c -> jumlah integer yang di-generate\n",
    "print(generator.integers(5, 11, 10))"
   ]
  },
  {
   "cell_type": "code",
   "execution_count": 39,
   "metadata": {},
   "outputs": [
    {
     "name": "stdout",
     "output_type": "stream",
     "text": [
      "[[34 24 13 12]\n",
      " [46 23 11 26]]\n",
      "[34 24 13 12 46 23 11 26]\n"
     ]
    }
   ],
   "source": [
    "# Vstack & Hstack\n",
    "\n",
    "a = np.array([34, 24, 13, 12])\n",
    "b = np.array([46, 23, 11, 26])\n",
    "\n",
    "# Vstack -> Vertical Stack -> Tumpuk array secara vertikal\n",
    "print(np.vstack([a, b]))\n",
    "\n",
    "# Hstack -> Horizontal Stack -> Tumpuk array secara horizontal\n",
    "print(np.hstack([a, b]))"
   ]
  }
 ],
 "metadata": {
  "kernelspec": {
   "display_name": "Python 3",
   "language": "python",
   "name": "python3"
  },
  "language_info": {
   "codemirror_mode": {
    "name": "ipython",
    "version": 3
   },
   "file_extension": ".py",
   "mimetype": "text/x-python",
   "name": "python",
   "nbconvert_exporter": "python",
   "pygments_lexer": "ipython3",
   "version": "3.10.9"
  },
  "orig_nbformat": 4
 },
 "nbformat": 4,
 "nbformat_minor": 2
}
