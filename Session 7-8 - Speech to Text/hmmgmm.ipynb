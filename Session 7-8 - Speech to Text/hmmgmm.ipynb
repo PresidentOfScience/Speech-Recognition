{
 "cells": [
  {
   "cell_type": "code",
   "execution_count": 1,
   "metadata": {},
   "outputs": [
    {
     "name": "stderr",
     "output_type": "stream",
     "text": [
      "c:\\ProgramData\\anaconda3\\envs\\speech_recognition\\lib\\site-packages\\scipy\\__init__.py:146: UserWarning: A NumPy version >=1.16.5 and <1.23.0 is required for this version of SciPy (detected version 1.23.5\n",
      "  warnings.warn(f\"A NumPy version >={np_minversion} and <{np_maxversion}\"\n"
     ]
    }
   ],
   "source": [
    "import numpy as np\n",
    "import os\n",
    "import scipy\n",
    "from scipy.io import wavfile"
   ]
  },
  {
   "cell_type": "code",
   "execution_count": 2,
   "metadata": {},
   "outputs": [
    {
     "name": "stdout",
     "output_type": "stream",
     "text": [
      "['./Audio/apple/apple0.wav', './Audio/apple/apple01.wav', './Audio/apple/apple02.wav', './Audio/apple/apple03.wav', './Audio/apple/apple04.wav', './Audio/apple/apple05.wav', './Audio/apple/apple06.wav', './Audio/apple/apple07.wav', './Audio/apple/apple08.wav', './Audio/apple/apple09.wav', './Audio/apple/apple1.wav', './Audio/apple/apple10(1).wav', './Audio/apple/apple10.wav', './Audio/apple/apple11(1).wav', './Audio/apple/apple11.wav', './Audio/apple/apple12(1).wav', './Audio/apple/apple12.wav', './Audio/apple/apple13(1).wav', './Audio/apple/apple13.wav', './Audio/apple/apple14(1).wav', './Audio/apple/apple14.wav', './Audio/apple/apple15.wav', './Audio/apple/apple2.wav', './Audio/apple/apple3.wav', './Audio/apple/apple4.wav', './Audio/apple/apple5.wav', './Audio/apple/apple6.wav', './Audio/apple/apple7.wav', './Audio/apple/apple8.wav', './Audio/apple/apple9.wav', './Audio/banana/banana01.wav', './Audio/banana/banana02.wav', './Audio/banana/banana03.wav', './Audio/banana/banana04.wav', './Audio/banana/banana05.wav', './Audio/banana/banana06.wav', './Audio/banana/banana07.wav', './Audio/banana/banana08.wav', './Audio/banana/banana09.wav', './Audio/banana/banana10.wav', './Audio/banana/banana11.wav', './Audio/banana/banana12.wav', './Audio/banana/banana13.wav', './Audio/banana/banana14.wav', './Audio/banana/banana15.wav', './Audio/book/book0.wav', './Audio/book/book1.wav', './Audio/book/book10.wav', './Audio/book/book11.wav', './Audio/book/book12.wav', './Audio/book/book13.wav', './Audio/book/book14.wav', './Audio/book/book2.wav', './Audio/book/book3.wav', './Audio/book/book4.wav', './Audio/book/book5.wav', './Audio/book/book6.wav', './Audio/book/book7.wav', './Audio/book/book8.wav', './Audio/book/book9.wav', './Audio/cat/cat0.wav', './Audio/cat/cat1.wav', './Audio/cat/cat10.wav', './Audio/cat/cat11.wav', './Audio/cat/cat12.wav', './Audio/cat/cat13.wav', './Audio/cat/cat14.wav', './Audio/cat/cat2.wav', './Audio/cat/cat3.wav', './Audio/cat/cat4.wav', './Audio/cat/cat5.wav', './Audio/cat/cat6.wav', './Audio/cat/cat7.wav', './Audio/cat/cat8.wav', './Audio/cat/cat9.wav', './Audio/dog/dog0.wav', './Audio/dog/dog1.wav', './Audio/dog/dog10.wav', './Audio/dog/dog11.wav', './Audio/dog/dog12.wav', './Audio/dog/dog13.wav', './Audio/dog/dog14.wav', './Audio/dog/dog2.wav', './Audio/dog/dog3.wav', './Audio/dog/dog4.wav', './Audio/dog/dog5.wav', './Audio/dog/dog6.wav', './Audio/dog/dog7.wav', './Audio/dog/dog8.wav', './Audio/dog/dog9.wav', './Audio/eye/eye0.wav', './Audio/eye/eye1.wav', './Audio/eye/eye10.wav', './Audio/eye/eye11.wav', './Audio/eye/eye12.wav', './Audio/eye/eye13.wav', './Audio/eye/eye14.wav', './Audio/eye/eye2.wav', './Audio/eye/eye3.wav', './Audio/eye/eye4.wav', './Audio/eye/eye5.wav', './Audio/eye/eye6.wav', './Audio/eye/eye7.wav', './Audio/eye/eye8.wav', './Audio/eye/eye9.wav', './Audio/fast/fast0.wav', './Audio/fast/fast1.wav', './Audio/fast/fast10.wav', './Audio/fast/fast11.wav', './Audio/fast/fast12.wav', './Audio/fast/fast13.wav', './Audio/fast/fast14.wav', './Audio/fast/fast2.wav', './Audio/fast/fast3.wav', './Audio/fast/fast4.wav', './Audio/fast/fast5.wav', './Audio/fast/fast6.wav', './Audio/fast/fast7.wav', './Audio/fast/fast8.wav', './Audio/fast/fast9.wav', './Audio/god/god0.wav', './Audio/god/god1.wav', './Audio/god/god10.wav', './Audio/god/god11.wav', './Audio/god/god12.wav', './Audio/god/god13.wav', './Audio/god/god14.wav', './Audio/god/god2.wav', './Audio/god/god3.wav', './Audio/god/god4.wav', './Audio/god/god5.wav', './Audio/god/god6.wav', './Audio/god/god7.wav', './Audio/god/god8.wav', './Audio/god/god9.wav', './Audio/human/human0.wav', './Audio/human/human1.wav', './Audio/human/human10.wav', './Audio/human/human11.wav', './Audio/human/human12.wav', './Audio/human/human13.wav', './Audio/human/human14.wav', './Audio/human/human2.wav', './Audio/human/human3.wav', './Audio/human/human4.wav', './Audio/human/human5.wav', './Audio/human/human6.wav', './Audio/human/human7.wav', './Audio/human/human8.wav', './Audio/human/human9.wav', './Audio/kiwi/kiwi01.wav', './Audio/kiwi/kiwi02.wav', './Audio/kiwi/kiwi03.wav', './Audio/kiwi/kiwi04.wav', './Audio/kiwi/kiwi05.wav', './Audio/kiwi/kiwi06.wav', './Audio/kiwi/kiwi07.wav', './Audio/kiwi/kiwi08.wav', './Audio/kiwi/kiwi09.wav', './Audio/kiwi/kiwi10.wav', './Audio/kiwi/kiwi11.wav', './Audio/kiwi/kiwi12.wav', './Audio/kiwi/kiwi13.wav', './Audio/kiwi/kiwi14.wav', './Audio/kiwi/kiwi15.wav', './Audio/lime/lime01.wav', './Audio/lime/lime02.wav', './Audio/lime/lime03.wav', './Audio/lime/lime04.wav', './Audio/lime/lime05.wav', './Audio/lime/lime06.wav', './Audio/lime/lime07.wav', './Audio/lime/lime08.wav', './Audio/lime/lime09.wav', './Audio/lime/lime10.wav', './Audio/lime/lime11.wav', './Audio/lime/lime12.wav', './Audio/lime/lime13.wav', './Audio/lime/lime14.wav', './Audio/lime/lime15.wav', './Audio/orange/orange01.wav', './Audio/orange/orange02.wav', './Audio/orange/orange03.wav', './Audio/orange/orange04.wav', './Audio/orange/orange05.wav', './Audio/orange/orange06.wav', './Audio/orange/orange07.wav', './Audio/orange/orange08.wav', './Audio/orange/orange09.wav', './Audio/orange/orange10.wav', './Audio/orange/orange11.wav', './Audio/orange/orange12.wav', './Audio/orange/orange13.wav', './Audio/orange/orange14.wav', './Audio/orange/orange15.wav', './Audio/peach/peach01.wav', './Audio/peach/peach02.wav', './Audio/peach/peach03.wav', './Audio/peach/peach04.wav', './Audio/peach/peach05.wav', './Audio/peach/peach06.wav', './Audio/peach/peach07.wav', './Audio/peach/peach08.wav', './Audio/peach/peach09.wav', './Audio/peach/peach10.wav', './Audio/peach/peach11.wav', './Audio/peach/peach12.wav', './Audio/peach/peach13.wav', './Audio/peach/peach14.wav', './Audio/peach/peach15.wav', './Audio/pineapple/pineapple01.wav', './Audio/pineapple/pineapple02.wav', './Audio/pineapple/pineapple03.wav', './Audio/pineapple/pineapple04.wav', './Audio/pineapple/pineapple05.wav', './Audio/pineapple/pineapple06.wav', './Audio/pineapple/pineapple07.wav', './Audio/pineapple/pineapple08.wav', './Audio/pineapple/pineapple09.wav', './Audio/pineapple/pineapple10.wav', './Audio/pineapple/pineapple11.wav', './Audio/pineapple/pineapple12.wav', './Audio/pineapple/pineapple13.wav', './Audio/pineapple/pineapple14.wav', './Audio/pineapple/pineapple15.wav']\n",
      "['apple', 'apple', 'apple', 'apple', 'apple', 'apple', 'apple', 'apple', 'apple', 'apple', 'apple', 'apple', 'apple', 'apple', 'apple', 'apple', 'apple', 'apple', 'apple', 'apple', 'apple', 'apple', 'apple', 'apple', 'apple', 'apple', 'apple', 'apple', 'apple', 'apple', 'banana', 'banana', 'banana', 'banana', 'banana', 'banana', 'banana', 'banana', 'banana', 'banana', 'banana', 'banana', 'banana', 'banana', 'banana', 'book', 'book', 'book', 'book', 'book', 'book', 'book', 'book', 'book', 'book', 'book', 'book', 'book', 'book', 'book', 'cat', 'cat', 'cat', 'cat', 'cat', 'cat', 'cat', 'cat', 'cat', 'cat', 'cat', 'cat', 'cat', 'cat', 'cat', 'dog', 'dog', 'dog', 'dog', 'dog', 'dog', 'dog', 'dog', 'dog', 'dog', 'dog', 'dog', 'dog', 'dog', 'dog', 'eye', 'eye', 'eye', 'eye', 'eye', 'eye', 'eye', 'eye', 'eye', 'eye', 'eye', 'eye', 'eye', 'eye', 'eye', 'fast', 'fast', 'fast', 'fast', 'fast', 'fast', 'fast', 'fast', 'fast', 'fast', 'fast', 'fast', 'fast', 'fast', 'fast', 'god', 'god', 'god', 'god', 'god', 'god', 'god', 'god', 'god', 'god', 'god', 'god', 'god', 'god', 'god', 'human', 'human', 'human', 'human', 'human', 'human', 'human', 'human', 'human', 'human', 'human', 'human', 'human', 'human', 'human', 'kiwi', 'kiwi', 'kiwi', 'kiwi', 'kiwi', 'kiwi', 'kiwi', 'kiwi', 'kiwi', 'kiwi', 'kiwi', 'kiwi', 'kiwi', 'kiwi', 'kiwi', 'lime', 'lime', 'lime', 'lime', 'lime', 'lime', 'lime', 'lime', 'lime', 'lime', 'lime', 'lime', 'lime', 'lime', 'lime', 'orange', 'orange', 'orange', 'orange', 'orange', 'orange', 'orange', 'orange', 'orange', 'orange', 'orange', 'orange', 'orange', 'orange', 'orange', 'peach', 'peach', 'peach', 'peach', 'peach', 'peach', 'peach', 'peach', 'peach', 'peach', 'peach', 'peach', 'peach', 'peach', 'peach', 'pineapple', 'pineapple', 'pineapple', 'pineapple', 'pineapple', 'pineapple', 'pineapple', 'pineapple', 'pineapple', 'pineapple', 'pineapple', 'pineapple', 'pineapple', 'pineapple', 'pineapple']\n",
      "['apple', 'banana', 'book', 'cat', 'dog', 'eye', 'fast', 'god', 'human', 'kiwi', 'lime', 'orange', 'peach', 'pineapple']\n"
     ]
    }
   ],
   "source": [
    "file_paths = []\n",
    "labels = []\n",
    "spoken = []\n",
    "\n",
    "base_path = './Audio'\n",
    "\n",
    "# print(os.listdir(base_path))\n",
    "\n",
    "for fol in os.listdir(base_path):\n",
    "    for file in os.listdir(base_path + '/' + fol):\n",
    "        file_paths.append(base_path + '/' + fol + '/' + file)\n",
    "        labels.append(fol)\n",
    "        if fol not in spoken:\n",
    "            spoken.append(fol)\n",
    "            \n",
    "print(file_paths)\n",
    "print(labels)\n",
    "print(spoken)"
   ]
  },
  {
   "cell_type": "code",
   "execution_count": 3,
   "metadata": {},
   "outputs": [
    {
     "name": "stdout",
     "output_type": "stream",
     "text": [
      "8000\n",
      "2694\n"
     ]
    }
   ],
   "source": [
    "rate, d = wavfile.read('./Audio/apple/apple01.wav')\n",
    "print(rate)\n",
    "print(d.shape[0])"
   ]
  },
  {
   "cell_type": "code",
   "execution_count": 4,
   "metadata": {},
   "outputs": [
    {
     "name": "stdout",
     "output_type": "stream",
     "text": [
      "0 book\n",
      "1 eye\n",
      "2 kiwi\n",
      "3 dog\n",
      "4 human\n",
      "5 peach\n",
      "6 banana\n",
      "7 fast\n",
      "8 orange\n",
      "9 god\n",
      "10 lime\n",
      "11 cat\n",
      "12 pineapple\n",
      "13 apple\n",
      "[13. 13. 13. 13. 13. 13. 13. 13. 13. 13. 13. 13. 13. 13. 13. 13. 13. 13.\n",
      " 13. 13. 13. 13. 13. 13. 13. 13. 13. 13. 13. 13.  6.  6.  6.  6.  6.  6.\n",
      "  6.  6.  6.  6.  6.  6.  6.  6.  6.  0.  0.  0.  0.  0.  0.  0.  0.  0.\n",
      "  0.  0.  0.  0.  0.  0. 11. 11. 11. 11. 11. 11. 11. 11. 11. 11. 11. 11.\n",
      " 11. 11. 11.  3.  3.  3.  3.  3.  3.  3.  3.  3.  3.  3.  3.  3.  3.  3.\n",
      "  1.  1.  1.  1.  1.  1.  1.  1.  1.  1.  1.  1.  1.  1.  1.  7.  7.  7.\n",
      "  7.  7.  7.  7.  7.  7.  7.  7.  7.  7.  7.  7.  9.  9.  9.  9.  9.  9.\n",
      "  9.  9.  9.  9.  9.  9.  9.  9.  9.  4.  4.  4.  4.  4.  4.  4.  4.  4.\n",
      "  4.  4.  4.  4.  4.  4.  2.  2.  2.  2.  2.  2.  2.  2.  2.  2.  2.  2.\n",
      "  2.  2.  2. 10. 10. 10. 10. 10. 10. 10. 10. 10. 10. 10. 10. 10. 10. 10.\n",
      "  8.  8.  8.  8.  8.  8.  8.  8.  8.  8.  8.  8.  8.  8.  8.  5.  5.  5.\n",
      "  5.  5.  5.  5.  5.  5.  5.  5.  5.  5.  5.  5. 12. 12. 12. 12. 12. 12.\n",
      " 12. 12. 12. 12. 12. 12. 12. 12. 12.]\n"
     ]
    }
   ],
   "source": [
    "data = np.zeros((len(file_paths), 32000))\n",
    "max_sample_rate = -1\n",
    "\n",
    "for n, file in enumerate(file_paths):\n",
    "    _, d = wavfile.read(file)\n",
    "    data[n, :d.shape[0]] = d\n",
    "    if d.shape[0] > max_sample_rate:\n",
    "        max_sample_rate = d.shape[0]\n",
    "    \n",
    "data = data[:, :max_sample_rate]\n",
    "\n",
    "# print(data.shape)\n",
    "\n",
    "all_labels = np.zeros(len(labels))\n",
    "\n",
    "for n, l in enumerate(set(labels)):\n",
    "    print(n, l)\n",
    "    all_labels[ np.array([i for i, lab in enumerate(labels) if lab == l]) ] = n\n",
    "    \n",
    "print(all_labels)"
   ]
  },
  {
   "cell_type": "code",
   "execution_count": 5,
   "metadata": {},
   "outputs": [
    {
     "name": "stdout",
     "output_type": "stream",
     "text": [
      "['book', 'eye', 'kiwi', 'dog', 'human', 'peach', 'banana', 'fast', 'orange', 'god', 'lime', 'cat', 'pineapple', 'apple']\n"
     ]
    }
   ],
   "source": [
    "dictionary = [''] * 14\n",
    "\n",
    "for i in range(0, len(labels)):\n",
    "    dictionary[ int(all_labels[i]) ] = labels[i]\n",
    "\n",
    "print(dictionary)"
   ]
  },
  {
   "cell_type": "code",
   "execution_count": 6,
   "metadata": {},
   "outputs": [
    {
     "data": {
      "image/png": "[encoded data removed]",
      "text/plain": [
       "<Figure size 640x480 with 1 Axes>"
      ]
     },
     "metadata": {},
     "output_type": "display_data"
    }
   ],
   "source": [
    "import matplotlib.pyplot as plt\n",
    "\n",
    "plt.plot(data[0, :])\n",
    "plt.title(f'Time Domain for Audio {labels[0]}')\n",
    "plt.xlabel('Time Dimension')\n",
    "plt.ylabel('Amplitude')\n",
    "plt.show()"
   ]
  },
  {
   "cell_type": "code",
   "execution_count": 7,
   "metadata": {},
   "outputs": [],
   "source": [
    "def stft(x, fftsize=64, overlap_pct=0.5):\n",
    "    w = np.hanning(fftsize + 1)[:-1]\n",
    "    \n",
    "    hop = int(fftsize * (1 - overlap_pct))\n",
    "    \n",
    "    raw = np.array([\n",
    "        (np.fft.rfft(w * x[i:i+fftsize])) for i in range(0, len(x) - fftsize, hop)\n",
    "    ])\n",
    "    \n",
    "    return raw[:, :(fftsize // 2)]"
   ]
  },
  {
   "cell_type": "code",
   "execution_count": 8,
   "metadata": {},
   "outputs": [],
   "source": [
    "from numpy.lib.stride_tricks import as_strided\n",
    "\n",
    "def peakfind(x, n_peaks, l_size=3, c_size=3, r_size=3):\n",
    "    win_size = l_size + c_size + r_size\n",
    "    shape = x.shape[:-1] + (x.shape[-1] - win_size, win_size)\n",
    "    strides = x.strides + (x.strides[-1], )\n",
    "    \n",
    "    xs = as_strided(x, shape=shape, strides=strides)\n",
    "    \n",
    "    def is_peak(x):\n",
    "        centered = (np.argmax(x) == l_size + (c_size/2))\n",
    "        \n",
    "        l = x[:l_size]\n",
    "        c = x[l_size:l_size + c_size]\n",
    "        r = x[-r_size:]\n",
    "        max = np.max(c) > np.max([np.mean(l), np.mean(r)])\n",
    "        \n",
    "        if centered and max:\n",
    "            return np.max(c)\n",
    "        else:\n",
    "            return -1\n",
    "        \n",
    "    r = np.apply_along_axis(is_peak, 1, xs)\n",
    "    top = np.argsort(r, None)[::-1]\n",
    "    heights = r[top[:n_peaks]]\n",
    "    \n",
    "    top[top > -1] = top[top > -1] + l_size + int(c_size/2)\n",
    "    \n",
    "    return heights, top[:n_peaks]"
   ]
  },
  {
   "cell_type": "code",
   "execution_count": 11,
   "metadata": {},
   "outputs": [
    {
     "name": "stdout",
     "output_type": "stream",
     "text": [
      "Processed Obs-0\n",
      "Processed Obs-10\n",
      "Processed Obs-20\n",
      "Processed Obs-30\n",
      "Processed Obs-40\n",
      "Processed Obs-50\n",
      "Processed Obs-60\n",
      "Processed Obs-70\n",
      "Processed Obs-80\n",
      "Processed Obs-90\n",
      "Processed Obs-100\n",
      "Processed Obs-110\n",
      "Processed Obs-120\n",
      "Processed Obs-130\n",
      "Processed Obs-140\n",
      "Processed Obs-150\n",
      "Processed Obs-160\n",
      "Processed Obs-170\n",
      "Processed Obs-180\n",
      "Processed Obs-190\n",
      "Processed Obs-200\n",
      "Processed Obs-210\n",
      "Processed Obs-220\n"
     ]
    }
   ],
   "source": [
    "all_obs = []\n",
    "\n",
    "for i in range(data.shape[0]):\n",
    "    d = np.abs(stft(data[i, :]))\n",
    "    n_dim = 6\n",
    "    obs = np.zeros((n_dim, d.shape[0]))\n",
    "    \n",
    "    for r in range(d.shape[0]):\n",
    "        _, top = peakfind(d[r, :], n_peaks=n_dim)\n",
    "        obs[:, r] = top.copy()\n",
    "        \n",
    "    if i % 10 == 0:\n",
    "        print(f'Processed Obs-{i}')\n",
    "        \n",
    "    all_obs.append(obs)\n",
    "\n",
    "all_obs = np.atleast_3d(all_obs)"
   ]
  },
  {
   "cell_type": "code",
   "execution_count": null,
   "metadata": {},
   "outputs": [],
   "source": [
    "class HMMGMM:\n",
    "    def _normalize(self, x):\n",
    "        return (x + (x == 0)) / np.sum(x)\n",
    "    \n",
    "    def _stochastisize(self, x):\n",
    "        return (x + (x == 0)) / np.sum(x, axis=1)"
   ]
  }
 ],
 "metadata": {
  "kernelspec": {
   "display_name": "speech_recognition",
   "language": "python",
   "name": "python3"
  },
  "language_info": {
   "codemirror_mode": {
    "name": "ipython",
    "version": 3
   },
   "file_extension": ".py",
   "mimetype": "text/x-python",
   "name": "python",
   "nbconvert_exporter": "python",
   "pygments_lexer": "ipython3",
   "version": "3.10.9"
  },
  "orig_nbformat": 4
 },
 "nbformat": 4,
 "nbformat_minor": 2
}
