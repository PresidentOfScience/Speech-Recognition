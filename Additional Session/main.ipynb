{
  "cells": [
    {
      "cell_type": "code",
      "execution_count": null,
      "metadata": {
        "colab": {
          "base_uri": "https://localhost:8080/"
        },
        "id": "AcXPfN4YL-Gd",
        "outputId": "d559c334-6e08-4355-df54-b3a9ad73e82a"
      },
      "outputs": [
        {
          "name": "stdout",
          "output_type": "stream",
          "text": [
            "Collecting pydub\n",
            "  Downloading pydub-0.25.1-py2.py3-none-any.whl (32 kB)\n",
            "Installing collected packages: pydub\n",
            "Successfully installed pydub-0.25.1\n"
          ]
        }
      ],
      "source": [
        "!pip install pydub"
      ]
    },
    {
      "cell_type": "code",
      "execution_count": null,
      "metadata": {
        "id": "-MDgSMlEAS6c"
      },
      "outputs": [],
      "source": [
        "from pydub import AudioSegment\n",
        "import librosa\n",
        "import soundfile as sf\n",
        "\n",
        "def vol():\n",
        "  while True:\n",
        "    volume = int(input('Input volume (-10000 until 100): '))\n",
        "    if volume >= -10000 and volume <= 100:\n",
        "      break\n",
        "    print(\"Volume must be -10000 until 100\")\n",
        "\n",
        "  while True:\n",
        "    file_name = input('Input filename: ')\n",
        "    if file_name.endswith('.wav'):\n",
        "      break\n",
        "    print(\"File name must ends with .wav\")\n",
        "\n",
        "  audio = AudioSegment.from_wav('speech.wav')\n",
        "  audio = audio + volume\n",
        "  # Export pakai soundfile\n",
        "  audio_data = audio.get_array_of_samples()\n",
        "  sf.write(file_name, audio_data, audio.frame_rate)\n",
        "\n",
        "def pitch():\n",
        "  while True:\n",
        "    pitch = int(input('Input pitch (-10 until 10): '))\n",
        "    if pitch >= -10 and pitch <= 10:\n",
        "      break\n",
        "    print(\"Pitch must be -10 until 10\")\n",
        "\n",
        "  while True:\n",
        "    file_name = input('Input filename: ')\n",
        "    if file_name.endswith('.wav'):\n",
        "      break\n",
        "    print(\"File name must ends with .wav\")\n",
        "\n",
        "  audio_data, sample_rate = librosa.load('speech.wav')\n",
        "  pitch_audio = librosa.effects.pitch_shift(audio_data, sr=sample_rate, n_steps=pitch)\n",
        "  # Export\n",
        "  sf.write(file_name, pitch_audio, sample_rate)\n",
        "\n",
        "def fade_in():\n",
        "  while True:\n",
        "    duration = int(input('Input duration: '))\n",
        "    if duration > 0:\n",
        "      break\n",
        "    print(\"Duration must be more than 0\")\n",
        "\n",
        "  while True:\n",
        "    file_name = input('Input filename: ')\n",
        "    if file_name.endswith('.wav'):\n",
        "      break\n",
        "    print(\"File name must ends with .wav\")\n",
        "\n",
        "  audio = AudioSegment.from_wav('speech.wav')\n",
        "  audio = audio.fade_in(duration * 1000)\n",
        "  # Export pakai soundfile\n",
        "  audio_data = audio.get_array_of_samples()\n",
        "  sf.write(file_name, audio_data, audio.frame_rate)\n",
        "\n",
        "def fade_out():\n",
        "  while True:\n",
        "    duration = int(input('Input duration: '))\n",
        "    if duration > 0:\n",
        "      break\n",
        "    print(\"Duration must be more than 0\")\n",
        "\n",
        "  while True:\n",
        "    file_name = input('Input filename: ')\n",
        "    if file_name.endswith('.wav'):\n",
        "      break\n",
        "    print(\"File name must ends with .wav\")\n",
        "\n",
        "  audio = AudioSegment.from_wav('speech.wav')\n",
        "  audio = audio.fade_out(duration * 1000)\n",
        "  # Export pakai soundfile\n",
        "  audio_data = audio.get_array_of_samples()\n",
        "  sf.write(file_name, audio_data, audio.frame_rate)"
      ]
    },
    {
      "cell_type": "code",
      "execution_count": null,
      "metadata": {
        "id": "yzPiDYR8VgCs"
      },
      "outputs": [],
      "source": [
        "import torch\n",
        "import torchaudio\n",
        "\n",
        "class GreedyCTCDecoder(torch.nn.Module):\n",
        "  def __init__(self, labels):\n",
        "    super().__init__()\n",
        "    self.labels = labels\n",
        "    self.blank = 0\n",
        "\n",
        "  def forward(self, emission: torch.Tensor) -> str:\n",
        "    indices = torch.argmax(emission, dim=-1)\n",
        "    indices = torch.unique_consecutive(indices, dim=-1)\n",
        "    indices = [i for i in indices if i != self.blank]\n",
        "    labels = [self.labels[i].replace('|', ' ') for i in indices]\n",
        "\n",
        "    return ''.join(labels)\n",
        "\n",
        "def transcript():\n",
        "  bundle = torchaudio.pipelines.WAV2VEC2_ASR_BASE_960H\n",
        "  model = bundle.get_model()\n",
        "  waveform, sample_rate = torchaudio.load('speech.wav')\n",
        "\n",
        "  if sample_rate != bundle.sample_rate:\n",
        "    waveform = torchaudio.functional.resample(waveform, sample_rate, bundle.sample_rate)\n",
        "\n",
        "  with torch.inference_mode():\n",
        "    emission, _ = model(waveform)\n",
        "\n",
        "  decoder = GreedyCTCDecoder(bundle.get_labels())\n",
        "  text = decoder(emission[0])\n",
        "  print(text)"
      ]
    },
    {
      "cell_type": "code",
      "execution_count": null,
      "metadata": {
        "colab": {
          "base_uri": "https://localhost:8080/"
        },
        "id": "BEsTShXxFkxg",
        "outputId": "51c5bac5-c19c-4496-cbc6-7b95d8426b10"
      },
      "outputs": [
        {
          "name": "stdout",
          "output_type": "stream",
          "text": [
            "Program\n",
            "1. Augmentation\n",
            "2. Prediction\n",
            "0. Exit\n",
            "Choose menu: 2\n",
            "THE PUBLIC ARE ENTREATED TO BEAR IN MIND THAT THIRTEEN YEARS HAVE PASSED SINCE IT WAS FINISHED MANY MORE SINCE IT WAS BEGUN AND THAT DURING THAT PERIOD PLACES MANNERS BOOKS AND OPINIONS HAVE UNDERGONE CONSIDERABLE CHANGES \n",
            "Program\n",
            "1. Augmentation\n",
            "2. Prediction\n",
            "0. Exit\n",
            "Choose menu: 0\n",
            "Thank you\n"
          ]
        }
      ],
      "source": [
        "def menu():\n",
        "    print('Program')\n",
        "    print('1. Augmentation')\n",
        "    print('2. Prediction')\n",
        "    print('0. Exit')\n",
        "    choice = input('Choose menu: ')\n",
        "    return choice\n",
        "\n",
        "def submenu():\n",
        "    print('Augmentation')\n",
        "    print('1. Volume Up/Down')\n",
        "    print('2. Pitch')\n",
        "    print('3. Add Fade In')\n",
        "    print('4. Add Fade Out')\n",
        "    print('0. Back')\n",
        "    subchoice = input('Choose menu: ')\n",
        "    return subchoice\n",
        "\n",
        "while True:\n",
        "    choice = menu()\n",
        "    if choice == '1':\n",
        "        while True:\n",
        "            subchoice = submenu()\n",
        "            if subchoice == '1':\n",
        "                vol()\n",
        "            elif subchoice == '2':\n",
        "                pitch()\n",
        "            elif subchoice == '3':\n",
        "                fade_in()\n",
        "            elif subchoice == '4':\n",
        "                fade_out()\n",
        "            elif subchoice == '0':\n",
        "                break\n",
        "            else:\n",
        "                print('Input only 0-4')\n",
        "    elif choice == '2':\n",
        "      transcript()\n",
        "    elif choice == '0':\n",
        "      print('Thank you')\n",
        "      break\n",
        "    else:\n",
        "      print('Input 0-3 only')"
      ]
    }
  ],
  "metadata": {
    "colab": {
      "provenance": []
    },
    "kernelspec": {
      "display_name": "Python 3",
      "name": "python3"
    },
    "language_info": {
      "name": "python",
      "version": "3.10.9"
    }
  },
  "nbformat": 4,
  "nbformat_minor": 0
}
